{
 "cells": [
  {
   "cell_type": "code",
   "execution_count": 58,
   "id": "407f6a7b",
   "metadata": {},
   "outputs": [],
   "source": [
    "#Towers of Hanoi problem using for loops without recursion:\n",
    "def TOH(discs):\n",
    "    current_pos = []\n",
    "    \n",
    "    move = 2**(discs)-1 \n",
    "    \n",
    "    print(\"Number of moves required for this process: \", move)\n",
    "\n",
    "    if discs %2 == 0 or discs %2 != 0:\n",
    "        \n",
    "        for i in range(1, move+1):\n",
    "\n",
    "            fr = 'A'\n",
    "            to = 'C'\n",
    "            spare = 'B'\n",
    "\n",
    "            if i % 3 == 1:\n",
    "                print('Move Disc from Pole', fr, \"to\",'Pole', spare)\n",
    "                current_pos.append('Pole '+fr+\" to Pole \"+spare)\n",
    "\n",
    "            elif i % 3 == 2 and i >= 5:    \n",
    "                (to, fr) = (fr, to)\n",
    "                print('Move Disc from Pole', fr, \"to\",'Pole', to)\n",
    "                current_pos.append('Pole '+fr+\" to Pole \"+to)\n",
    "            \n",
    "            elif i % 3 == 2:\n",
    "                print('Move Disc from Pole', fr, \"to\",'Pole', to)\n",
    "                current_pos.append('Pole '+fr+\" to Pole \"+to)\n",
    "            \n",
    "            elif i % 3 == 0 and i >= 6:\n",
    "                (to, spare) = (spare, to)\n",
    "                print('Move Disc from Pole', spare, \"to\",'Pole', to)\n",
    "                current_pos.append('Pole '+spare+\" to Pole \"+to)\n",
    "\n",
    "            elif i % 3 == 0:\n",
    "                print('Move Disc from Pole', spare, \"to\",'Pole', to)\n",
    "                current_pos.append('Pole '+spare+\" to Pole \"+to)\n",
    "\n",
    "    return \"The whole path followed:\", current_pos"
   ]
  },
  {
   "cell_type": "code",
   "execution_count": 59,
   "id": "d6742265",
   "metadata": {},
   "outputs": [
    {
     "name": "stdout",
     "output_type": "stream",
     "text": [
      "Enter the number of Discs you want to have: 3\n",
      "Number of moves required for this process:  7\n",
      "Move Disc from Pole A to Pole B\n",
      "Move Disc from Pole A to Pole C\n",
      "Move Disc from Pole B to Pole C\n",
      "Move Disc from Pole A to Pole B\n",
      "Move Disc from Pole C to Pole A\n",
      "Move Disc from Pole C to Pole B\n",
      "Move Disc from Pole A to Pole B\n"
     ]
    },
    {
     "data": {
      "text/plain": [
       "('The whole path followed:',\n",
       " ['Pole A to Pole B',\n",
       "  'Pole A to Pole C',\n",
       "  'Pole B to Pole C',\n",
       "  'Pole A to Pole B',\n",
       "  'Pole C to Pole A',\n",
       "  'Pole C to Pole B',\n",
       "  'Pole A to Pole B'])"
      ]
     },
     "execution_count": 59,
     "metadata": {},
     "output_type": "execute_result"
    }
   ],
   "source": [
    "a = int(input('Enter the number of Discs you want to have: '))\n",
    "TOH(a)"
   ]
  },
  {
   "cell_type": "code",
   "execution_count": 27,
   "id": "6079d170",
   "metadata": {},
   "outputs": [
    {
     "data": {
      "text/plain": [
       "1"
      ]
     },
     "execution_count": 27,
     "metadata": {},
     "output_type": "execute_result"
    }
   ],
   "source": [
    "5% 2"
   ]
  },
  {
   "cell_type": "code",
   "execution_count": null,
   "id": "90f11030",
   "metadata": {},
   "outputs": [],
   "source": []
  }
 ],
 "metadata": {
  "kernelspec": {
   "display_name": "Python 3 (ipykernel)",
   "language": "python",
   "name": "python3"
  },
  "language_info": {
   "codemirror_mode": {
    "name": "ipython",
    "version": 3
   },
   "file_extension": ".py",
   "mimetype": "text/x-python",
   "name": "python",
   "nbconvert_exporter": "python",
   "pygments_lexer": "ipython3",
   "version": "3.9.13"
  }
 },
 "nbformat": 4,
 "nbformat_minor": 5
}
