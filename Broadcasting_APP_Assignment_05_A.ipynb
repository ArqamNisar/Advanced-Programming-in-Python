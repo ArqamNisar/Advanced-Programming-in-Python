{
 "cells": [
  {
   "cell_type": "code",
   "execution_count": 34,
   "id": "ca4cdd7a",
   "metadata": {},
   "outputs": [
    {
     "name": "stdout",
     "output_type": "stream",
     "text": [
      "The shape of A:  (5, 4)\n",
      "The shape of B:  (1,)\n",
      "[[ 3  9 15 21]\n",
      " [24 15 18  6]\n",
      " [21  3 18 12]\n",
      " [ 9 15 21 27]\n",
      " [36 12  3  6]]\n",
      "The final shape after broadcasting:  (5, 4)\n"
     ]
    }
   ],
   "source": [
    "#First case (A 2d(5x4) and a 1d(4x1) array broadcasting):\n",
    "A = [ [1, 3, 5, 7], [8, 5, 6, 2], [7, 1, 6, 4], [3, 5, 7, 9], [12, 4, 1, 2] ]\n",
    "import numpy as np\n",
    "A = np.array(A)\n",
    "print(\"The shape of A: \", A.shape)\n",
    "\n",
    "B = [3]\n",
    "B = np.array(B)\n",
    "print(\"The shape of B: \", B.shape)\n",
    "\n",
    "C = A*B\n",
    "print(C)\n",
    "print(\"The final shape after broadcasting: \", C.shape)"
   ]
  },
  {
   "cell_type": "code",
   "execution_count": 35,
   "id": "a46b4496",
   "metadata": {},
   "outputs": [
    {
     "name": "stdout",
     "output_type": "stream",
     "text": [
      "The shape of A:  (5, 4)\n",
      "The shape of B:  (4,)\n",
      "[[ 3 12 25 42]\n",
      " [24 20 30 12]\n",
      " [21  4 30 24]\n",
      " [ 9 20 35 54]\n",
      " [36 16  5 12]]\n",
      "The final shape after broadcasting:  (5, 4)\n"
     ]
    }
   ],
   "source": [
    "#Second case(A 2d(5x4) and a 1d(4x1) array broadcasting):\n",
    "A = [ [1, 3, 5, 7], [8, 5, 6, 2], [7, 1, 6, 4], [3, 5, 7, 9], [12, 4, 1, 2] ]\n",
    "import numpy as np\n",
    "A = np.array(A)\n",
    "print(\"The shape of A: \", A.shape)\n",
    "\n",
    "B = [3, 4, 5, 6]\n",
    "B = np.array(B)\n",
    "print(\"The shape of B: \", B.shape)\n",
    "\n",
    "C = A*B\n",
    "print(C)\n",
    "print(\"The final shape after broadcasting: \", C.shape)"
   ]
  },
  {
   "cell_type": "code",
   "execution_count": 37,
   "id": "eae244e3",
   "metadata": {},
   "outputs": [
    {
     "name": "stdout",
     "output_type": "stream",
     "text": [
      "The shape of A:  (5, 3, 5)\n",
      "The shape of B:  (5, 1, 5)\n",
      "[[[ 1  9 25 49 64]\n",
      "  [ 8 15 30 14  8]\n",
      "  [ 7  3 30 28 48]]\n",
      "\n",
      " [[ 9 25 49 81  4]\n",
      "  [36 20  7 18 16]\n",
      "  [18 35 56 81  2]]\n",
      "\n",
      " [[ 9 25 49 81  1]\n",
      "  [36 20  7 18  4]\n",
      "  [18 35 56 81  3]]\n",
      "\n",
      " [[ 9 25 49 81 16]\n",
      "  [36 20  7 18 28]\n",
      "  [18 35 56 81 20]]\n",
      "\n",
      " [[ 9 25 49 81 49]\n",
      "  [36 20  7 18 35]\n",
      "  [18 35 56 81 28]]]\n",
      "The final shape after broadcasting:  (5, 3, 5)\n"
     ]
    }
   ],
   "source": [
    "#Third case(A 3d(5x3x5) and a 3d(5x1x5) array broadcasting):\n",
    "A = [ [[1, 3, 5, 7, 8], [8, 5, 6, 2, 1], [7, 1, 6, 4, 6]],\n",
    "     [[3, 5, 7, 9, 2], [12, 4, 1, 2, 8], [6, 7, 8, 9, 1]],\n",
    "    [[3, 5, 7, 9, 1], [12, 4, 1, 2, 4], [6, 7, 8, 9, 3]],\n",
    "    [[3, 5, 7, 9, 4], [12, 4, 1, 2, 7], [6, 7, 8, 9, 5]],\n",
    "    [[3, 5, 7, 9, 7], [12, 4, 1, 2, 5], [6, 7, 8, 9, 4]],]\n",
    "import numpy as np\n",
    "A = np.array(A)\n",
    "print(\"The shape of A: \", A.shape)\n",
    "\n",
    "B = [ [[1, 3, 5, 7, 8]],\n",
    "     [[3, 5, 7, 9, 2]],\n",
    "    [[3, 5, 7, 9, 1]],\n",
    "    [[3, 5, 7, 9, 4]],\n",
    "    [[3, 5, 7, 9, 7]]]\n",
    "B = np.array(B)\n",
    "print(\"The shape of B: \", B.shape)\n",
    "\n",
    "C = A*B\n",
    "print(C)\n",
    "print(\"The final shape after broadcasting: \", C.shape)"
   ]
  },
  {
   "cell_type": "code",
   "execution_count": 32,
   "id": "9ecee1f2",
   "metadata": {},
   "outputs": [
    {
     "name": "stdout",
     "output_type": "stream",
     "text": [
      "The shape of A:  (5, 3, 5)\n",
      "The shape of B:  (3, 5)\n",
      "[[[ 1  9 25 49 64]\n",
      "  [24 25 42 18  2]\n",
      "  [21  5 42 36  6]]\n",
      "\n",
      " [[ 3 15 35 63 16]\n",
      "  [36 20  7 18 16]\n",
      "  [18 35 56 81  1]]\n",
      "\n",
      " [[ 3 15 35 63  8]\n",
      "  [36 20  7 18  8]\n",
      "  [18 35 56 81  3]]\n",
      "\n",
      " [[ 3 15 35 63 32]\n",
      "  [36 20  7 18 14]\n",
      "  [18 35 56 81  5]]\n",
      "\n",
      " [[ 3 15 35 63 56]\n",
      "  [36 20  7 18 10]\n",
      "  [18 35 56 81  4]]]\n",
      "The final shape after broadcasting:  (5, 3, 5)\n"
     ]
    }
   ],
   "source": [
    "#Fourth case(A 3d(5x3x5) and a 2d(3x5) array broadcasting):\n",
    "A = [ [[1, 3, 5, 7, 8], [8, 5, 6, 2, 1], [7, 1, 6, 4, 6]],\n",
    "     [[3, 5, 7, 9, 2], [12, 4, 1, 2, 8], [6, 7, 8, 9, 1]],\n",
    "    [[3, 5, 7, 9, 1], [12, 4, 1, 2, 4], [6, 7, 8, 9, 3]],\n",
    "    [[3, 5, 7, 9, 4], [12, 4, 1, 2, 7], [6, 7, 8, 9, 5]],\n",
    "    [[3, 5, 7, 9, 7], [12, 4, 1, 2, 5], [6, 7, 8, 9, 4]],]\n",
    "import numpy as np\n",
    "A = np.array(A)\n",
    "print(\"The shape of A: \",A.shape)\n",
    "\n",
    "B = [[1, 3, 5, 7, 8], [3, 5, 7, 9, 2], [3, 5, 7, 9, 1]]\n",
    "B = np.array(B)\n",
    "print(\"The shape of B: \", B.shape)\n",
    "\n",
    "C = A*B\n",
    "print(C)\n",
    "print(\"The final shape after broadcasting: \", C.shape)"
   ]
  },
  {
   "cell_type": "code",
   "execution_count": 33,
   "id": "e60ac44d",
   "metadata": {},
   "outputs": [
    {
     "name": "stdout",
     "output_type": "stream",
     "text": [
      "The shape of A:  (5, 3, 5)\n",
      "The shape of B:  (3, 1)\n",
      "[[[ 1  3  5  7  8]\n",
      "  [16 10 12  4  2]\n",
      "  [21  3 18 12 18]]\n",
      "\n",
      " [[ 3  5  7  9  2]\n",
      "  [24  8  2  4 16]\n",
      "  [18 21 24 27  3]]\n",
      "\n",
      " [[ 3  5  7  9  1]\n",
      "  [24  8  2  4  8]\n",
      "  [18 21 24 27  9]]\n",
      "\n",
      " [[ 3  5  7  9  4]\n",
      "  [24  8  2  4 14]\n",
      "  [18 21 24 27 15]]\n",
      "\n",
      " [[ 3  5  7  9  7]\n",
      "  [24  8  2  4 10]\n",
      "  [18 21 24 27 12]]]\n",
      "The final shape after broadcasting:  (5, 3, 5)\n"
     ]
    }
   ],
   "source": [
    "#Fifth case(A 3d(5x3x5) and a 2d(3x1) array broadcasting):\n",
    "A = [ [[1, 3, 5, 7, 8], [8, 5, 6, 2, 1], [7, 1, 6, 4, 6]],\n",
    "     [[3, 5, 7, 9, 2], [12, 4, 1, 2, 8], [6, 7, 8, 9, 1]],\n",
    "    [[3, 5, 7, 9, 1], [12, 4, 1, 2, 4], [6, 7, 8, 9, 3]],\n",
    "    [[3, 5, 7, 9, 4], [12, 4, 1, 2, 7], [6, 7, 8, 9, 5]],\n",
    "    [[3, 5, 7, 9, 7], [12, 4, 1, 2, 5], [6, 7, 8, 9, 4]],]\n",
    "import numpy as np\n",
    "A = np.array(A)\n",
    "print(\"The shape of A: \",A.shape)\n",
    "\n",
    "B = [[1], [2], [3]]\n",
    "B = np.array(B)\n",
    "print(\"The shape of B: \", B.shape)\n",
    "\n",
    "C = A*B\n",
    "print(C)\n",
    "print(\"The final shape after broadcasting: \", C.shape)"
   ]
  },
  {
   "cell_type": "code",
   "execution_count": 39,
   "id": "d3a0794b",
   "metadata": {},
   "outputs": [
    {
     "name": "stdout",
     "output_type": "stream",
     "text": [
      "The shape of A:  (5, 4)\n",
      "The shape of B:  (3,)\n"
     ]
    },
    {
     "ename": "ValueError",
     "evalue": "operands could not be broadcast together with shapes (5,4) (3,) ",
     "output_type": "error",
     "traceback": [
      "\u001b[1;31m---------------------------------------------------------------------------\u001b[0m",
      "\u001b[1;31mValueError\u001b[0m                                Traceback (most recent call last)",
      "\u001b[1;32m~\\AppData\\Local\\Temp\\ipykernel_11976\\4068647220.py\u001b[0m in \u001b[0;36m<module>\u001b[1;34m\u001b[0m\n\u001b[0;32m      9\u001b[0m \u001b[0mprint\u001b[0m\u001b[1;33m(\u001b[0m\u001b[1;34m\"The shape of B: \"\u001b[0m\u001b[1;33m,\u001b[0m \u001b[0mB\u001b[0m\u001b[1;33m.\u001b[0m\u001b[0mshape\u001b[0m\u001b[1;33m)\u001b[0m\u001b[1;33m\u001b[0m\u001b[1;33m\u001b[0m\u001b[0m\n\u001b[0;32m     10\u001b[0m \u001b[1;33m\u001b[0m\u001b[0m\n\u001b[1;32m---> 11\u001b[1;33m \u001b[0mC\u001b[0m \u001b[1;33m=\u001b[0m \u001b[0mA\u001b[0m\u001b[1;33m*\u001b[0m\u001b[0mB\u001b[0m\u001b[1;33m\u001b[0m\u001b[1;33m\u001b[0m\u001b[0m\n\u001b[0m\u001b[0;32m     12\u001b[0m \u001b[0mprint\u001b[0m\u001b[1;33m(\u001b[0m\u001b[0mC\u001b[0m\u001b[1;33m)\u001b[0m\u001b[1;33m\u001b[0m\u001b[1;33m\u001b[0m\u001b[0m\n\u001b[0;32m     13\u001b[0m \u001b[0mprint\u001b[0m\u001b[1;33m(\u001b[0m\u001b[1;34m\"The final shape after broadcasting: \"\u001b[0m\u001b[1;33m,\u001b[0m \u001b[0mC\u001b[0m\u001b[1;33m.\u001b[0m\u001b[0mshape\u001b[0m\u001b[1;33m)\u001b[0m\u001b[1;33m\u001b[0m\u001b[1;33m\u001b[0m\u001b[0m\n",
      "\u001b[1;31mValueError\u001b[0m: operands could not be broadcast together with shapes (5,4) (3,) "
     ]
    }
   ],
   "source": [
    "#Failure cases(try 1: 2d and 2d array):\n",
    "A = [ [1, 3, 5, 7], [8, 5, 6, 2], [7, 1, 6, 4], [3, 5, 7, 9], [12, 4, 1, 2] ]\n",
    "import numpy as np\n",
    "A = np.array(A)\n",
    "print(\"The shape of A: \", A.shape)\n",
    "\n",
    "B = [3, 4, 5]\n",
    "B = np.array(B)\n",
    "print(\"The shape of B: \", B.shape)\n",
    "\n",
    "C = A*B\n",
    "print(C)\n",
    "print(\"The final shape after broadcasting: \", C.shape)"
   ]
  },
  {
   "cell_type": "code",
   "execution_count": 42,
   "id": "be7e818e",
   "metadata": {},
   "outputs": [
    {
     "name": "stdout",
     "output_type": "stream",
     "text": [
      "The shape of A:  (5, 3, 5)\n",
      "The shape of B:  (2, 1)\n"
     ]
    },
    {
     "ename": "ValueError",
     "evalue": "operands could not be broadcast together with shapes (5,3,5) (1,2) ",
     "output_type": "error",
     "traceback": [
      "\u001b[1;31m---------------------------------------------------------------------------\u001b[0m",
      "\u001b[1;31mValueError\u001b[0m                                Traceback (most recent call last)",
      "\u001b[1;32m~\\AppData\\Local\\Temp\\ipykernel_11976\\884719794.py\u001b[0m in \u001b[0;36m<module>\u001b[1;34m\u001b[0m\n\u001b[0;32m     13\u001b[0m \u001b[0mprint\u001b[0m\u001b[1;33m(\u001b[0m\u001b[1;34m\"The shape of B: \"\u001b[0m\u001b[1;33m,\u001b[0m \u001b[0mB\u001b[0m\u001b[1;33m.\u001b[0m\u001b[0mshape\u001b[0m\u001b[1;33m)\u001b[0m\u001b[1;33m\u001b[0m\u001b[1;33m\u001b[0m\u001b[0m\n\u001b[0;32m     14\u001b[0m \u001b[1;33m\u001b[0m\u001b[0m\n\u001b[1;32m---> 15\u001b[1;33m \u001b[0mC\u001b[0m \u001b[1;33m=\u001b[0m \u001b[0mA\u001b[0m\u001b[1;33m*\u001b[0m\u001b[0mB\u001b[0m\u001b[1;33m.\u001b[0m\u001b[0mT\u001b[0m\u001b[1;33m\u001b[0m\u001b[1;33m\u001b[0m\u001b[0m\n\u001b[0m\u001b[0;32m     16\u001b[0m \u001b[0mprint\u001b[0m\u001b[1;33m(\u001b[0m\u001b[0mC\u001b[0m\u001b[1;33m)\u001b[0m\u001b[1;33m\u001b[0m\u001b[1;33m\u001b[0m\u001b[0m\n\u001b[0;32m     17\u001b[0m \u001b[0mprint\u001b[0m\u001b[1;33m(\u001b[0m\u001b[1;34m\"The final shape after broadcasting: \"\u001b[0m\u001b[1;33m,\u001b[0m \u001b[0mC\u001b[0m\u001b[1;33m.\u001b[0m\u001b[0mshape\u001b[0m\u001b[1;33m)\u001b[0m\u001b[1;33m\u001b[0m\u001b[1;33m\u001b[0m\u001b[0m\n",
      "\u001b[1;31mValueError\u001b[0m: operands could not be broadcast together with shapes (5,3,5) (1,2) "
     ]
    }
   ],
   "source": [
    "#Fifth case(A 3d(5x3x5) and a 2d(3x1) array broadcasting):\n",
    "A = [ [[1, 3, 5, 7, 8], [8, 5, 6, 2, 1], [7, 1, 6, 4, 6]],\n",
    "     [[3, 5, 7, 9, 2], [12, 4, 1, 2, 8], [6, 7, 8, 9, 1]],\n",
    "    [[3, 5, 7, 9, 1], [12, 4, 1, 2, 4], [6, 7, 8, 9, 3]],\n",
    "    [[3, 5, 7, 9, 4], [12, 4, 1, 2, 7], [6, 7, 8, 9, 5]],\n",
    "    [[3, 5, 7, 9, 7], [12, 4, 1, 2, 5], [6, 7, 8, 9, 4]],]\n",
    "import numpy as np\n",
    "A = np.array(A)\n",
    "print(\"The shape of A: \",A.shape)\n",
    "\n",
    "B = [[1], [2]]\n",
    "B = np.array(B)\n",
    "print(\"The shape of B: \", B.shape)\n",
    "\n",
    "C = A*B.T\n",
    "print(C)\n",
    "print(\"The final shape after broadcasting: \", C.shape)"
   ]
  },
  {
   "cell_type": "code",
   "execution_count": null,
   "id": "4502dcb7",
   "metadata": {},
   "outputs": [],
   "source": []
  }
 ],
 "metadata": {
  "kernelspec": {
   "display_name": "Python 3 (ipykernel)",
   "language": "python",
   "name": "python3"
  },
  "language_info": {
   "codemirror_mode": {
    "name": "ipython",
    "version": 3
   },
   "file_extension": ".py",
   "mimetype": "text/x-python",
   "name": "python",
   "nbconvert_exporter": "python",
   "pygments_lexer": "ipython3",
   "version": "3.9.13"
  }
 },
 "nbformat": 4,
 "nbformat_minor": 5
}
