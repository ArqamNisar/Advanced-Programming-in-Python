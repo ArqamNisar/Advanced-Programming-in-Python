{
 "cells": [
  {
   "cell_type": "markdown",
   "id": "c6c8cf40",
   "metadata": {},
   "source": [
    "# Part 1 (Developing a code for the robot to reach the final Position)"
   ]
  },
  {
   "cell_type": "code",
   "execution_count": 1,
   "id": "aa84730a",
   "metadata": {},
   "outputs": [
    {
     "name": "stdout",
     "output_type": "stream",
     "text": [
      "Enter the starting position (x-coordinate): 3\n",
      "Enter the starting position (y-coordinate): 0\n",
      "Moved Forward\n",
      "Moved Forward\n",
      "Moved Forward\n",
      "Moved Forward\n",
      "Moved Upwards\n",
      "Moved Upwards\n",
      "Moved Upwards\n",
      "Moved Forward\n",
      "The target is Reached\n",
      "The Path followed by the robot in terms of coordinates is:  [[3, 0], [3, 1], [3, 2], [3, 3], [3, 4], [2, 4], [1, 4], [0, 4], [0, 5]]\n"
     ]
    }
   ],
   "source": [
    "#The maze is predefined like the following:\n",
    "\n",
    "maze =      [[0, 0, 0, 0, 1, 'X'],\n",
    "            [0, 0, 0, 0, 1, 0],\n",
    "            [0, 0, 0, 0, 1, 0],\n",
    "            ['S', 1, 1, 1, 1, 0],\n",
    "            [1, 1, 0, 1, 0, 0],\n",
    "            [0, 0, 0, 1, 0, 0]]\n",
    "\n",
    "#Starting position \"S\" in the maze:\n",
    "#x = 3\n",
    "#y = 0\n",
    "x = int(input(\"Enter the starting position (x-coordinate): \"))\n",
    "y = int(input(\"Enter the starting position (y-coordinate): \"))\n",
    "\n",
    "#A variable for the path followed in terms of coordinates:\n",
    "path = [[x,y]]\n",
    "\n",
    "#Main loop to execute the operation:\n",
    "#Forward:\n",
    "while True:\n",
    "    if (x>=0 and y+1>=0 and x<6 and y+1<6 and maze[x][y+1]):\n",
    "        maze[x][y] = 0\n",
    "        [x, y] = [x, y + 1]\n",
    "        path.append([x,y])\n",
    "        print(\"Moved Forward\")\n",
    "        if (maze[x][y] == 'X'):\n",
    "            print(\"The target is Reached\")\n",
    "            break\n",
    "        maze[x][y] = 'S'\n",
    "        \n",
    "#Downwards:       \n",
    "    elif (x+1>=0 and y>=0 and x+1<6 and y<6 and maze[x+1][y]):\n",
    "        maze[x][y] = 0\n",
    "        [x, y] = [x + 1, y]\n",
    "        path.append([x,y])\n",
    "        print(\"Moved Downwards\")\n",
    "        if (maze[x][y] == 'X'):\n",
    "            print(\"The target is Reached\")\n",
    "            break\n",
    "        \n",
    "        maze[x][y] = 'S'\n",
    "        \n",
    "#Upwards:\n",
    "    elif (x-1>=0 and y>=0 and x-1<6 and y<6 and maze[x-1][y]):\n",
    "        maze[x][y] = 0\n",
    "        [x, y] = [x - 1, y]\n",
    "        print(\"Moved Upwards\")\n",
    "        path.append([x,y])\n",
    "        if (maze[x][y] == 'X'):\n",
    "            print(\"The target is Reached\")\n",
    "            break\n",
    "        \n",
    "        maze[x][y] = 'S'\n",
    "        \n",
    "#Backwards:        \n",
    "    elif (x>=0 and y-1>=0 and x<6 and y-1<6 and maze[x][y-1]):\n",
    "        maze[x][y] = 0\n",
    "        [x, y] = [x, y - 1]\n",
    "        print(\"Moved Backwards\")\n",
    "        path.append([x,y])\n",
    "        if (maze[x][y] == 'X'):\n",
    "            print(\"The target is Reached\")\n",
    "            break\n",
    "        \n",
    "        maze[x][y] = 'S'\n",
    "#No Possible move available:\n",
    "    else:\n",
    "        print(\"No possible path available\")\n",
    "        break\n",
    "        \n",
    "#The complete path followed from the starting point given by the user:\n",
    "print(\"The Path followed by the robot in terms of coordinates is: \", path)\n"
   ]
  },
  {
   "cell_type": "markdown",
   "id": "58a98e8d",
   "metadata": {},
   "source": [
    "# Part 2 (Developing a Calculator):"
   ]
  },
  {
   "cell_type": "code",
   "execution_count": 2,
   "id": "8fe808c7",
   "metadata": {},
   "outputs": [
    {
     "name": "stdout",
     "output_type": "stream",
     "text": [
      "Enter a number for x: 5\n",
      "Enter the operation you want to use: *\n",
      "Enter a number for y: 8\n",
      "\n",
      "\n",
      "Answer is:  40.0\n"
     ]
    },
    {
     "ename": "KeyboardInterrupt",
     "evalue": "Interrupted by user",
     "output_type": "error",
     "traceback": [
      "\u001b[1;31m---------------------------------------------------------------------------\u001b[0m",
      "\u001b[1;31mKeyboardInterrupt\u001b[0m                         Traceback (most recent call last)",
      "Input \u001b[1;32mIn [2]\u001b[0m, in \u001b[0;36m<cell line: 4>\u001b[1;34m()\u001b[0m\n\u001b[0;32m      1\u001b[0m \u001b[38;5;66;03m#Main function for developing a calculator:\u001b[39;00m\n\u001b[0;32m      2\u001b[0m \u001b[38;5;28;01mwhile\u001b[39;00m \u001b[38;5;28;01mTrue\u001b[39;00m:\n\u001b[0;32m      3\u001b[0m \u001b[38;5;66;03m#Taking input from the user for values of x,y and the operator:\u001b[39;00m\n\u001b[1;32m----> 4\u001b[0m     x \u001b[38;5;241m=\u001b[39m \u001b[38;5;28mfloat\u001b[39m(\u001b[38;5;28;43minput\u001b[39;49m\u001b[43m(\u001b[49m\u001b[38;5;124;43m\"\u001b[39;49m\u001b[38;5;124;43mEnter a number for x: \u001b[39;49m\u001b[38;5;124;43m\"\u001b[39;49m\u001b[43m)\u001b[49m)\n\u001b[0;32m      5\u001b[0m     op \u001b[38;5;241m=\u001b[39m \u001b[38;5;28minput\u001b[39m(\u001b[38;5;124m\"\u001b[39m\u001b[38;5;124mEnter the operation you want to use: \u001b[39m\u001b[38;5;124m\"\u001b[39m)\n\u001b[0;32m      6\u001b[0m     y \u001b[38;5;241m=\u001b[39m \u001b[38;5;28mfloat\u001b[39m(\u001b[38;5;28minput\u001b[39m(\u001b[38;5;124m\"\u001b[39m\u001b[38;5;124mEnter a number for y: \u001b[39m\u001b[38;5;124m\"\u001b[39m))\n",
      "File \u001b[1;32m~\\anaconda3\\envs\\Pytorch\\lib\\site-packages\\ipykernel\\kernelbase.py:1177\u001b[0m, in \u001b[0;36mKernel.raw_input\u001b[1;34m(self, prompt)\u001b[0m\n\u001b[0;32m   1173\u001b[0m \u001b[38;5;28;01mif\u001b[39;00m \u001b[38;5;129;01mnot\u001b[39;00m \u001b[38;5;28mself\u001b[39m\u001b[38;5;241m.\u001b[39m_allow_stdin:\n\u001b[0;32m   1174\u001b[0m     \u001b[38;5;28;01mraise\u001b[39;00m StdinNotImplementedError(\n\u001b[0;32m   1175\u001b[0m         \u001b[38;5;124m\"\u001b[39m\u001b[38;5;124mraw_input was called, but this frontend does not support input requests.\u001b[39m\u001b[38;5;124m\"\u001b[39m\n\u001b[0;32m   1176\u001b[0m     )\n\u001b[1;32m-> 1177\u001b[0m \u001b[38;5;28;01mreturn\u001b[39;00m \u001b[38;5;28;43mself\u001b[39;49m\u001b[38;5;241;43m.\u001b[39;49m\u001b[43m_input_request\u001b[49m\u001b[43m(\u001b[49m\n\u001b[0;32m   1178\u001b[0m \u001b[43m    \u001b[49m\u001b[38;5;28;43mstr\u001b[39;49m\u001b[43m(\u001b[49m\u001b[43mprompt\u001b[49m\u001b[43m)\u001b[49m\u001b[43m,\u001b[49m\n\u001b[0;32m   1179\u001b[0m \u001b[43m    \u001b[49m\u001b[38;5;28;43mself\u001b[39;49m\u001b[38;5;241;43m.\u001b[39;49m\u001b[43m_parent_ident\u001b[49m\u001b[43m[\u001b[49m\u001b[38;5;124;43m\"\u001b[39;49m\u001b[38;5;124;43mshell\u001b[39;49m\u001b[38;5;124;43m\"\u001b[39;49m\u001b[43m]\u001b[49m\u001b[43m,\u001b[49m\n\u001b[0;32m   1180\u001b[0m \u001b[43m    \u001b[49m\u001b[38;5;28;43mself\u001b[39;49m\u001b[38;5;241;43m.\u001b[39;49m\u001b[43mget_parent\u001b[49m\u001b[43m(\u001b[49m\u001b[38;5;124;43m\"\u001b[39;49m\u001b[38;5;124;43mshell\u001b[39;49m\u001b[38;5;124;43m\"\u001b[39;49m\u001b[43m)\u001b[49m\u001b[43m,\u001b[49m\n\u001b[0;32m   1181\u001b[0m \u001b[43m    \u001b[49m\u001b[43mpassword\u001b[49m\u001b[38;5;241;43m=\u001b[39;49m\u001b[38;5;28;43;01mFalse\u001b[39;49;00m\u001b[43m,\u001b[49m\n\u001b[0;32m   1182\u001b[0m \u001b[43m\u001b[49m\u001b[43m)\u001b[49m\n",
      "File \u001b[1;32m~\\anaconda3\\envs\\Pytorch\\lib\\site-packages\\ipykernel\\kernelbase.py:1219\u001b[0m, in \u001b[0;36mKernel._input_request\u001b[1;34m(self, prompt, ident, parent, password)\u001b[0m\n\u001b[0;32m   1216\u001b[0m             \u001b[38;5;28;01mbreak\u001b[39;00m\n\u001b[0;32m   1217\u001b[0m \u001b[38;5;28;01mexcept\u001b[39;00m \u001b[38;5;167;01mKeyboardInterrupt\u001b[39;00m:\n\u001b[0;32m   1218\u001b[0m     \u001b[38;5;66;03m# re-raise KeyboardInterrupt, to truncate traceback\u001b[39;00m\n\u001b[1;32m-> 1219\u001b[0m     \u001b[38;5;28;01mraise\u001b[39;00m \u001b[38;5;167;01mKeyboardInterrupt\u001b[39;00m(\u001b[38;5;124m\"\u001b[39m\u001b[38;5;124mInterrupted by user\u001b[39m\u001b[38;5;124m\"\u001b[39m) \u001b[38;5;28;01mfrom\u001b[39;00m \u001b[38;5;28mNone\u001b[39m\n\u001b[0;32m   1220\u001b[0m \u001b[38;5;28;01mexcept\u001b[39;00m \u001b[38;5;167;01mException\u001b[39;00m:\n\u001b[0;32m   1221\u001b[0m     \u001b[38;5;28mself\u001b[39m\u001b[38;5;241m.\u001b[39mlog\u001b[38;5;241m.\u001b[39mwarning(\u001b[38;5;124m\"\u001b[39m\u001b[38;5;124mInvalid Message:\u001b[39m\u001b[38;5;124m\"\u001b[39m, exc_info\u001b[38;5;241m=\u001b[39m\u001b[38;5;28;01mTrue\u001b[39;00m)\n",
      "\u001b[1;31mKeyboardInterrupt\u001b[0m: Interrupted by user"
     ]
    }
   ],
   "source": [
    "#Main function for developing a calculator:\n",
    "while True:\n",
    "#Taking input from the user for values of x,y and the operator:\n",
    "    x = float(input(\"Enter a number for x: \"))\n",
    "    op = input(\"Enter the operation you want to use: \")\n",
    "    y = float(input(\"Enter a number for y: \"))\n",
    "    print(\"\\n\")\n",
    "#Functions of Multiplication, Addition, Division and Subtraction:\n",
    "    if (op in ['*', 'x', 'X']):\n",
    "        print(\"Answer is: \", x * y)\n",
    "    elif (op in ['+', 'add']):\n",
    "        print(\"Answer is: \", x + y)\n",
    "    elif (op in ['/', 'divide']):\n",
    "        print(\"Answer is: \", x / y)\n",
    "    elif (op in ['sub', '-', 'subtract']):\n",
    "        print(\"Answer is: \", x - y)\n",
    "        break"
   ]
  },
  {
   "cell_type": "markdown",
   "id": "77bc22a4",
   "metadata": {},
   "source": [
    "# Part 3 (Calculating Factorial of a number):"
   ]
  },
  {
   "cell_type": "code",
   "execution_count": 3,
   "id": "da38e799",
   "metadata": {},
   "outputs": [
    {
     "name": "stdout",
     "output_type": "stream",
     "text": [
      "Enter the number: 6\n",
      "The factorial of the number is:  720\n"
     ]
    }
   ],
   "source": [
    "#Taking input from the user for number:\n",
    "n = int(input(\"Enter the number: \"))\n",
    "factorial = 1\n",
    "#Factorial of 0 and 1 is always one so:\n",
    "if (n == 0 or n == 1):\n",
    "    print(\"1\")\n",
    "#Factorial of any number:\n",
    "else:\n",
    "    for i in range(1, n+1):\n",
    "        factorial = factorial*i\n",
    "    print(\"The factorial of the number is: \", factorial)\n"
   ]
  },
  {
   "cell_type": "markdown",
   "id": "cab8daac",
   "metadata": {},
   "source": [
    "# Part 4 (Fibonacci Series):"
   ]
  },
  {
   "cell_type": "code",
   "execution_count": 4,
   "id": "81a9fc9a",
   "metadata": {},
   "outputs": [
    {
     "name": "stdout",
     "output_type": "stream",
     "text": [
      "Enter the number of terms you want to print from Fibonacci Series: 8\n",
      "Fibonacci Series: \n",
      "1\n",
      "1\n",
      "2\n",
      "3\n",
      "5\n",
      "8\n",
      "13\n",
      "21\n"
     ]
    }
   ],
   "source": [
    "#Program to print out the Fibonacci series:\n",
    "terms = int(input(\"Enter the number of terms you want to print from Fibonacci Series: \"))\n",
    "\n",
    "#Starting numbers 0 and 1:\n",
    "a1, a0 = 1, 0\n",
    "\n",
    "#Variable to keep check on the loop:\n",
    "x = 0\n",
    "\n",
    "#If someone enters a negative number:\n",
    "if (terms <= 0):\n",
    "    print(\"Kindly input a positive number.\")\n",
    "\n",
    "#The first term is 1 in Fibonacci series:\n",
    "elif (terms == 1):\n",
    "    print(a1)\n",
    "\n",
    "#The fibonacci series with a while loop upto any term:\n",
    "else:\n",
    "    print(\"Fibonacci Series: \")\n",
    "    while (x < terms):\n",
    "        print(a1)\n",
    "        highest_term = a0 + a1\n",
    "        a0 = a1\n",
    "        a1 = highest_term\n",
    "        x += 1"
   ]
  },
  {
   "cell_type": "markdown",
   "id": "ee20db8d",
   "metadata": {},
   "source": [
    "# Part 5 (Check string operations: Len, substring, concatenate):"
   ]
  },
  {
   "cell_type": "code",
   "execution_count": 5,
   "id": "f3ac569d",
   "metadata": {},
   "outputs": [
    {
     "data": {
      "text/plain": [
       "11"
      ]
     },
     "execution_count": 5,
     "metadata": {},
     "output_type": "execute_result"
    }
   ],
   "source": [
    "#Length of string:\n",
    "\n",
    "sr = 'Arqam Nisar'\n",
    "len(sr)"
   ]
  },
  {
   "cell_type": "code",
   "execution_count": 6,
   "id": "523993c2",
   "metadata": {},
   "outputs": [
    {
     "data": {
      "text/plain": [
       "'AaNa'"
      ]
     },
     "execution_count": 6,
     "metadata": {},
     "output_type": "execute_result"
    }
   ],
   "source": [
    "#Substring:\n",
    "\n",
    "sr[0:17:3]"
   ]
  },
  {
   "cell_type": "code",
   "execution_count": 7,
   "id": "19aca6d7",
   "metadata": {},
   "outputs": [
    {
     "data": {
      "text/plain": [
       "'Muhammad Arqam Nisar'"
      ]
     },
     "execution_count": 7,
     "metadata": {},
     "output_type": "execute_result"
    }
   ],
   "source": [
    "#Concatenate:\n",
    "\n",
    "ar = 'Muhammad '\n",
    "test = ar + sr\n",
    "test"
   ]
  },
  {
   "cell_type": "code",
   "execution_count": null,
   "id": "4faf328e",
   "metadata": {},
   "outputs": [],
   "source": []
  }
 ],
 "metadata": {
  "kernelspec": {
   "display_name": "Python 3 (ipykernel)",
   "language": "python",
   "name": "python3"
  },
  "language_info": {
   "codemirror_mode": {
    "name": "ipython",
    "version": 3
   },
   "file_extension": ".py",
   "mimetype": "text/x-python",
   "name": "python",
   "nbconvert_exporter": "python",
   "pygments_lexer": "ipython3",
   "version": "3.9.13"
  }
 },
 "nbformat": 4,
 "nbformat_minor": 5
}
