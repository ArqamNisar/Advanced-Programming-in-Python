{
 "cells": [
  {
   "cell_type": "markdown",
   "id": "8756c8ef",
   "metadata": {},
   "source": [
    "# Part 1 (Developing a code for the robot to reach the final Position)"
   ]
  },
  {
   "cell_type": "code",
   "execution_count": null,
   "id": "3a3abe30",
   "metadata": {},
   "outputs": [],
   "source": [
    "#The maze is predefined like the following:\n",
    "\n",
    "maze =      [[0, 0, 0, 0, 1, 'X'],\n",
    "            [0, 0, 0, 0, 1, 0],\n",
    "            [0, 0, 0, 0, 1, 0],\n",
    "            ['S', 1, 1, 1, 1, 0],\n",
    "            [1, 1, 0, 1, 0, 0],\n",
    "            [0, 0, 0, 1, 0, 0]]\n",
    "\n",
    "#Starting position \"S\" in the maze:\n",
    "x = 3\n",
    "y = 0\n",
    "x = int(input(\"Enter the starting position (x-coordinate): \"))\n",
    "y = int(input(\"Enter the starting position (y-coordinate): \"))\n",
    "\n",
    "path = [[x,y]]\n",
    "while True:\n",
    "    if (x>=0 and y+1>=0 and x<6 and y+1<6 and maze[x][y+1]):\n",
    "        maze[x][y] = 0\n",
    "        [x, y] = [x, y + 1]\n",
    "        path.append([x,y])\n",
    "        print(\"Moved Forward\")\n",
    "        if (maze[x][y] == 'X'):\n",
    "            print(\"The target is Reached\")\n",
    "            break\n",
    "        maze[x][y] = 'S'\n",
    "        \n",
    "        \n",
    "    elif (x+1>=0 and y>=0 and x+1<6 and y<6 and maze[x+1][y]):\n",
    "        maze[x][y] = 0\n",
    "        [x, y] = [x + 1, y]\n",
    "        path.append([x,y])\n",
    "        print(\"Moved Downward\")\n",
    "        if (maze[x][y] == 'X'):\n",
    "            print(\"The target is Reached\")\n",
    "            break\n",
    "        \n",
    "        maze[x][y] = 'S'\n",
    "        \n",
    "        \n",
    "    elif (x-1>=0 and y>=0 and x-1<6 and y<6 and maze[x-1][y]):\n",
    "        maze[x][y] = 0\n",
    "        [x, y] = [x - 1, y]\n",
    "        print(\"Moved Upward\")\n",
    "        path.append([x,y])\n",
    "        if (maze[x][y] == 'X'):\n",
    "            print(\"The target is Reached\")\n",
    "            break\n",
    "        \n",
    "        maze[x][y] = 'S'\n",
    "        \n",
    "        \n",
    "    elif (x>=0 and y-1>=0 and x<6 and y-1<6 and maze[x][y-1]):\n",
    "        maze[x][y] = 0\n",
    "        [x, y] = [x, y - 1]\n",
    "        print(\"Moved Backwards\")\n",
    "        path.append([x,y])\n",
    "        if (maze[x][y] == 'X'):\n",
    "            print(\"The target is Reached\")\n",
    "            break\n",
    "        \n",
    "        maze[x][y] = 'S'\n",
    "        \n",
    "        \n",
    "    else:\n",
    "        print(\"No possible path available\")\n",
    "        break\n",
    "print(\"The Path followed by the robot in terms of coordinates is: \", path)"
   ]
  },
  {
   "cell_type": "markdown",
   "id": "372c4981",
   "metadata": {},
   "source": [
    "# Part 2 (Developing a Calculator):"
   ]
  },
  {
   "cell_type": "code",
   "execution_count": null,
   "id": "ccf2d2c3",
   "metadata": {},
   "outputs": [],
   "source": [
    "while True:\n",
    "    x = float(input(\"Enter a number for x: \"))\n",
    "    op = input(\"Enter the operation you want to use: \")\n",
    "    y = float(input(\"Enter a number for y: \"))\n",
    "    print(\"\\n\")\n",
    "    if (op in ['*', 'x', 'X']):\n",
    "        print(\"Answer is: \", x * y)\n",
    "    elif (op in ['+', 'add']):\n",
    "        print(\"Answer is: \", x + y)\n",
    "    elif (op in ['/', 'divide']):\n",
    "        print(\"Answer is: \", x / y)\n",
    "    elif (op in ['sub', '-', 'subtract']):\n",
    "        print(\"Answer is: \", x - y)\n",
    "        break"
   ]
  },
  {
   "cell_type": "markdown",
   "id": "046ba49a",
   "metadata": {},
   "source": [
    "# Part 3 (Calculating Factorial of a number):"
   ]
  },
  {
   "cell_type": "code",
   "execution_count": null,
   "id": "14cdee65",
   "metadata": {},
   "outputs": [],
   "source": [
    "n = int(input(\"Enter the number: \"))\n",
    "factorial = 1\n",
    "if (n == 0 or n == 1):\n",
    "    print(\"1\")\n",
    "else:\n",
    "    for i in range(1, n+1):\n",
    "        factorial = factorial*i\n",
    "    print(\"The factorial of the number is: \", factorial)\n"
   ]
  },
  {
   "cell_type": "markdown",
   "id": "b5388f6f",
   "metadata": {},
   "source": [
    "# Part 4 (Fibonacci Series):"
   ]
  },
  {
   "cell_type": "code",
   "execution_count": null,
   "id": "0ccf0332",
   "metadata": {},
   "outputs": [],
   "source": []
  },
  {
   "cell_type": "markdown",
   "id": "c1483bd3",
   "metadata": {},
   "source": [
    "# Part 5 (Check string operations: Len, substring, concatenate):"
   ]
  },
  {
   "cell_type": "code",
   "execution_count": null,
   "id": "f2dbb7d9",
   "metadata": {},
   "outputs": [],
   "source": [
    "#Length of string:\n",
    "\n",
    "sr = 'Arqam Nisar'\n",
    "len(sr)"
   ]
  },
  {
   "cell_type": "code",
   "execution_count": null,
   "id": "fe62ab57",
   "metadata": {},
   "outputs": [],
   "source": [
    "#Substring:\n",
    "\n",
    "sr[0:17:3]"
   ]
  },
  {
   "cell_type": "code",
   "execution_count": null,
   "id": "daf460c2",
   "metadata": {},
   "outputs": [],
   "source": [
    "#Concatenate:\n",
    "\n",
    "ar = 'Muhammad '\n",
    "test = ar + sr\n",
    "test"
   ]
  },
  {
   "cell_type": "code",
   "execution_count": null,
   "id": "66e9741c",
   "metadata": {},
   "outputs": [],
   "source": []
  }
 ],
 "metadata": {
  "kernelspec": {
   "display_name": "Python 3 (ipykernel)",
   "language": "python",
   "name": "python3"
  },
  "language_info": {
   "codemirror_mode": {
    "name": "ipython",
    "version": 3
   },
   "file_extension": ".py",
   "mimetype": "text/x-python",
   "name": "python",
   "nbconvert_exporter": "python",
   "pygments_lexer": "ipython3",
   "version": "3.9.13"
  }
 },
 "nbformat": 4,
 "nbformat_minor": 5
}
