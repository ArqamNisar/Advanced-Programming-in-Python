{
 "cells": [
  {
   "cell_type": "code",
   "execution_count": 43,
   "id": "47e24db8",
   "metadata": {},
   "outputs": [
    {
     "name": "stdout",
     "output_type": "stream",
     "text": [
      "Enter the value of cube: 0.5\n",
      "num_guesses = 11\n",
      "0.793701171875 is close to the cube root of 0.5\n"
     ]
    }
   ],
   "source": [
    "import sys\n",
    "\n",
    "cube = float(input('Enter the value of cube: '))\n",
    "epsilon = 0.0001 #Setting this epsilon value gives us the cube root correct upto 4 decimal places  \n",
    "num_guesses = 0\n",
    "low = 0\n",
    "high = 1\n",
    "guess = (high + low)/2.0\n",
    "\n",
    "if cube > 1 or cube < 0:\n",
    "    sys.exit('The cube is not in the defined range.')\n",
    "    \n",
    "while abs(guess**3 - cube) >= epsilon:\n",
    "    if guess**3 < cube:\n",
    "# look only in upper half search space\n",
    "        low = guess       \n",
    "    else:\n",
    "# look only in lower half search space\n",
    "        high = guess\n",
    "# next guess is halfway in search space\n",
    "    guess = (high + low)/2.0\n",
    "    num_guesses += 1    \n",
    "\n",
    "print('num_guesses =', num_guesses)\n",
    "print(guess, 'is close to the cube root of', cube)\n"
   ]
  },
  {
   "cell_type": "code",
   "execution_count": null,
   "id": "54c2df45",
   "metadata": {},
   "outputs": [],
   "source": []
  }
 ],
 "metadata": {
  "kernelspec": {
   "display_name": "Python 3 (ipykernel)",
   "language": "python",
   "name": "python3"
  },
  "language_info": {
   "codemirror_mode": {
    "name": "ipython",
    "version": 3
   },
   "file_extension": ".py",
   "mimetype": "text/x-python",
   "name": "python",
   "nbconvert_exporter": "python",
   "pygments_lexer": "ipython3",
   "version": "3.9.7"
  }
 },
 "nbformat": 4,
 "nbformat_minor": 5
}
